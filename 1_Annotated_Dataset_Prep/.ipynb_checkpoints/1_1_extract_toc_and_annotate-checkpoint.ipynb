{
 "cells": [
  {
   "cell_type": "code",
   "execution_count": 3,
   "metadata": {},
   "outputs": [],
   "source": [
    "import os\n",
    "import pickle"
   ]
  },
  {
   "cell_type": "code",
   "execution_count": 4,
   "metadata": {},
   "outputs": [],
   "source": [
    "from extract_toc import extract_toc\n",
    "from annotate_toc import annotate_toc_against_sumamry"
   ]
  },
  {
   "cell_type": "code",
   "execution_count": 5,
   "metadata": {},
   "outputs": [],
   "source": [
    "train_dir = '../../Dataset/FNS2023_Datasets/English/training/'\n",
    "valid_dir = '../../../Dataset/FNS2022/English/validation/'\n",
    "test_dir = '../../../Dataset/FNS2022/English/test/'\n",
    "out = 'out'\n",
    "annual_reports_dir = \"annual_reports\"\n",
    "gold_summary_dir = \"gold_summaries\""
   ]
  },
  {
   "cell_type": "markdown",
   "metadata": {},
   "source": [
    "#### Extract TOC in Training Dataset"
   ]
  },
  {
   "cell_type": "code",
   "execution_count": 6,
   "metadata": {},
   "outputs": [],
   "source": [
    "out_toc_pos_file_name = 'train_toc_loc.pkl'\n",
    "out_toc_len_file_name = 'train_toc_len.pkl'\n",
    "out_dir_path = os.path.join(train_dir, out)\n",
    "out_annotated_file_name = 'train_annotated.csv'"
   ]
  },
  {
   "cell_type": "code",
   "execution_count": null,
   "metadata": {},
   "outputs": [
    {
     "name": "stdout",
     "output_type": "stream",
     "text": [
      "3050\n",
      "Processing File Number:  0\n",
      "Processing File Number:  300\n"
     ]
    }
   ],
   "source": [
    "file_toc_loc, file_toc_len = extract_toc(train_dir, annual_reports_dir)"
   ]
  },
  {
   "cell_type": "code",
   "execution_count": null,
   "metadata": {},
   "outputs": [],
   "source": [
    "os.mkdir(out_dir_path)\n",
    "\n",
    "with open(os.path.join(out_dir_path, out_toc_pos_file_name), 'wb') as out_pickle_file:\n",
    "    pickle.dump(file_toc_loc, out_pickle_file, protocol=pickle.HIGHEST_PROTOCOL)\n",
    "    \n",
    "with open(os.path.join(out_dir_path, out_toc_len_file_name), 'wb') as out_pickle_file:\n",
    "    pickle.dump(file_toc_len, out_pickle_file, protocol=pickle.HIGHEST_PROTOCOL)"
   ]
  },
  {
   "cell_type": "code",
   "execution_count": null,
   "metadata": {},
   "outputs": [],
   "source": [
    "toc_annotated_df = annotate_toc_against_sumamry(train_dir, gold_summary_dir, os.path.join(train_dir, out), out_toc_pos_file_name, out_toc_len_file_name)"
   ]
  },
  {
   "cell_type": "code",
   "execution_count": null,
   "metadata": {},
   "outputs": [],
   "source": [
    "toc_annotated_df.to_csv(os.path.join(out_dir_path, out_annotated_file_name), index=False)"
   ]
  },
  {
   "cell_type": "markdown",
   "metadata": {},
   "source": [
    "#### Extract TOC in Validation Dataset"
   ]
  },
  {
   "cell_type": "code",
   "execution_count": null,
   "metadata": {},
   "outputs": [],
   "source": [
    "out_toc_pos_file_name = 'valid_toc_loc.pkl'\n",
    "out_toc_len_file_name = 'valid_toc_len.pkl'\n",
    "out_dir_path = os.path.join(valid_dir, out)\n",
    "out_annotated_file_name = 'valid_annotated.csv'"
   ]
  },
  {
   "cell_type": "code",
   "execution_count": null,
   "metadata": {},
   "outputs": [],
   "source": [
    "valid_file_toc_loc, valid_file_toc_len = extract_toc(valid_dir, annual_reports_dir)"
   ]
  },
  {
   "cell_type": "code",
   "execution_count": null,
   "metadata": {},
   "outputs": [],
   "source": [
    "os.mkdir(out_dir_path)\n",
    "\n",
    "with open(os.path.join(out_dir_path, out_toc_pos_file_name), 'wb') as out_pickle_file:\n",
    "    pickle.dump(valid_file_toc_loc, out_pickle_file, protocol=pickle.HIGHEST_PROTOCOL)\n",
    "    \n",
    "with open(os.path.join(out_dir_path, out_toc_len_file_name), 'wb') as out_pickle_file:\n",
    "    pickle.dump(valid_file_toc_len, out_pickle_file, protocol=pickle.HIGHEST_PROTOCOL)"
   ]
  },
  {
   "cell_type": "code",
   "execution_count": null,
   "metadata": {},
   "outputs": [],
   "source": [
    "toc_annotated_df = annotate_toc_against_sumamry(valid_dir, gold_summary_dir, os.path.join(valid_dir, out), out_toc_pos_file_name, out_toc_len_file_name)"
   ]
  },
  {
   "cell_type": "code",
   "execution_count": null,
   "metadata": {},
   "outputs": [],
   "source": [
    "toc_annotated_df.to_csv(os.path.join(out_dir_path, out_annotated_file_name), index=False)"
   ]
  },
  {
   "cell_type": "markdown",
   "metadata": {},
   "source": [
    "#### Extract TOC in Test Dataset"
   ]
  },
  {
   "cell_type": "code",
   "execution_count": null,
   "metadata": {},
   "outputs": [],
   "source": [
    "out_toc_pos_file_name = 'test_toc_loc.pkl'\n",
    "out_toc_len_file_name = 'test_toc_len.pkl'\n",
    "out_dir_path = os.path.join(test_dir, out)\n",
    "out_annotated_file_name = 'test_annotated.csv'"
   ]
  },
  {
   "cell_type": "code",
   "execution_count": null,
   "metadata": {},
   "outputs": [],
   "source": [
    "test_file_toc_loc, test_file_toc_len = extract_toc(test_dir, annual_reports_dir)"
   ]
  },
  {
   "cell_type": "code",
   "execution_count": null,
   "metadata": {},
   "outputs": [],
   "source": [
    "toc_annotated_df = annotate_toc_against_sumamry(valid_dir, gold_summary_dir, os.path.join(valid_dir, out), out_toc_pos_file_name, out_toc_len_file_name)"
   ]
  },
  {
   "cell_type": "code",
   "execution_count": null,
   "metadata": {},
   "outputs": [],
   "source": [
    "toc_annotated_df.to_csv(os.path.join(out_dir_path, out_annotated_file_name), index=False)"
   ]
  },
  {
   "cell_type": "code",
   "execution_count": null,
   "metadata": {},
   "outputs": [],
   "source": []
  }
 ],
 "metadata": {
  "kernelspec": {
   "display_name": "Python 3 (ipykernel)",
   "language": "python",
   "name": "python3"
  },
  "language_info": {
   "codemirror_mode": {
    "name": "ipython",
    "version": 3
   },
   "file_extension": ".py",
   "mimetype": "text/x-python",
   "name": "python",
   "nbconvert_exporter": "python",
   "pygments_lexer": "ipython3",
   "version": "3.9.12"
  }
 },
 "nbformat": 4,
 "nbformat_minor": 4
}
