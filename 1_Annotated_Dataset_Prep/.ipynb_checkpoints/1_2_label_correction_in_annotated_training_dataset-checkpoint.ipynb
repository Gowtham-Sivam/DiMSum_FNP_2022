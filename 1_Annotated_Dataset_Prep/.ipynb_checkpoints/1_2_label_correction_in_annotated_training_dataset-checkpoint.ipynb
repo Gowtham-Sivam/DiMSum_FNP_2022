{
 "cells": [
  {
   "cell_type": "code",
   "execution_count": 2,
   "id": "444945fb",
   "metadata": {},
   "outputs": [],
   "source": [
    "import numpy as np\n",
    "import pandas as pd"
   ]
  },
  {
   "cell_type": "code",
   "execution_count": 5,
   "id": "52ec0efb",
   "metadata": {},
   "outputs": [],
   "source": [
    "annotated_training_data_path = '../../../Dataset/Annotated_Dataset/train_annotated.csv'\n",
    "annotated_training_data_label_corrected_path = '../../../Dataset/Annotated_Dataset/train_annotated_label_corrected.csv'"
   ]
  },
  {
   "cell_type": "code",
   "execution_count": 7,
   "id": "d5f07a5f",
   "metadata": {},
   "outputs": [
    {
     "data": {
      "text/html": [
       "<div>\n",
       "<style scoped>\n",
       "    .dataframe tbody tr th:only-of-type {\n",
       "        vertical-align: middle;\n",
       "    }\n",
       "\n",
       "    .dataframe tbody tr th {\n",
       "        vertical-align: top;\n",
       "    }\n",
       "\n",
       "    .dataframe thead th {\n",
       "        text-align: right;\n",
       "    }\n",
       "</style>\n",
       "<table border=\"1\" class=\"dataframe\">\n",
       "  <thead>\n",
       "    <tr style=\"text-align: right;\">\n",
       "      <th></th>\n",
       "      <th>file_id</th>\n",
       "      <th>toc_section</th>\n",
       "      <th>toc_section_pos</th>\n",
       "      <th>toc_section_len</th>\n",
       "      <th>is_section_in_summary</th>\n",
       "    </tr>\n",
       "  </thead>\n",
       "  <tbody>\n",
       "    <tr>\n",
       "      <th>0</th>\n",
       "      <td>10023</td>\n",
       "      <td>Highlights</td>\n",
       "      <td>37</td>\n",
       "      <td>60</td>\n",
       "      <td>True</td>\n",
       "    </tr>\n",
       "    <tr>\n",
       "      <th>1</th>\n",
       "      <td>10023</td>\n",
       "      <td>The Company at a glance</td>\n",
       "      <td>97</td>\n",
       "      <td>88</td>\n",
       "      <td>True</td>\n",
       "    </tr>\n",
       "    <tr>\n",
       "      <th>2</th>\n",
       "      <td>10023</td>\n",
       "      <td>Our strategy for growth</td>\n",
       "      <td>185</td>\n",
       "      <td>37</td>\n",
       "      <td>False</td>\n",
       "    </tr>\n",
       "    <tr>\n",
       "      <th>3</th>\n",
       "      <td>10023</td>\n",
       "      <td>Chairman’s statement</td>\n",
       "      <td>222</td>\n",
       "      <td>160</td>\n",
       "      <td>True</td>\n",
       "    </tr>\n",
       "    <tr>\n",
       "      <th>4</th>\n",
       "      <td>10023</td>\n",
       "      <td>Chief Executive’s report</td>\n",
       "      <td>382</td>\n",
       "      <td>187</td>\n",
       "      <td>True</td>\n",
       "    </tr>\n",
       "  </tbody>\n",
       "</table>\n",
       "</div>"
      ],
      "text/plain": [
       "   file_id               toc_section  toc_section_pos  toc_section_len  \\\n",
       "0    10023                Highlights               37               60   \n",
       "1    10023   The Company at a glance               97               88   \n",
       "2    10023   Our strategy for growth              185               37   \n",
       "3    10023      Chairman’s statement              222              160   \n",
       "4    10023  Chief Executive’s report              382              187   \n",
       "\n",
       "   is_section_in_summary  \n",
       "0                   True  \n",
       "1                   True  \n",
       "2                  False  \n",
       "3                   True  \n",
       "4                   True  "
      ]
     },
     "execution_count": 7,
     "metadata": {},
     "output_type": "execute_result"
    }
   ],
   "source": [
    "annotated_training_data = pd.read_csv(annotated_training_data_path)\n",
    "annotated_training_data.head()"
   ]
  },
  {
   "cell_type": "code",
   "execution_count": 8,
   "id": "087e3895",
   "metadata": {},
   "outputs": [
    {
     "data": {
      "text/plain": [
       "False    49774\n",
       "True     18119\n",
       "Name: is_section_in_summary, dtype: int64"
      ]
     },
     "execution_count": 8,
     "metadata": {},
     "output_type": "execute_result"
    }
   ],
   "source": [
    "annotated_training_data.is_section_in_summary.value_counts()"
   ]
  },
  {
   "cell_type": "code",
   "execution_count": 10,
   "id": "1759c186",
   "metadata": {},
   "outputs": [
    {
     "data": {
      "text/plain": [
       "array(['Highlights', 'The Company at a glance', 'Our strategy for growth',\n",
       "       ..., 'Index to the consolidated and',\n",
       "       'REPORT ON CORPORATE GOVERNANCE',\n",
       "       'CONSOLIDATED STATEMENT OF TOTAL'], dtype=object)"
      ]
     },
     "execution_count": 10,
     "metadata": {},
     "output_type": "execute_result"
    }
   ],
   "source": [
    "toc_section_values = annotated_training_data['toc_section'].unique()\n",
    "toc_section_values"
   ]
  },
  {
   "cell_type": "code",
   "execution_count": 11,
   "id": "ef6aa9c6",
   "metadata": {},
   "outputs": [
    {
     "data": {
      "text/plain": [
       "True     658\n",
       "False    216\n",
       "Name: is_section_in_summary, dtype: int64"
      ]
     },
     "execution_count": 11,
     "metadata": {},
     "output_type": "execute_result"
    }
   ],
   "source": [
    "annotated_training_data[annotated_training_data['toc_section'] == 'Highlights']['is_section_in_summary'].value_counts()"
   ]
  },
  {
   "cell_type": "code",
   "execution_count": 12,
   "id": "3bbe270f",
   "metadata": {},
   "outputs": [],
   "source": [
    "def label_correction_using_majority_threshold(data_path, toc_section_name, label_col_name, corrected_data_path):\n",
    "    \n",
    "    df = pd.read_csv(data_path)\n",
    "    toc_section_values = df[toc_section_name].unique()\n",
    "    print('Number of sections to be processed: ', toc_section_values.shape)\n",
    "    \n",
    "    num = 0\n",
    "    for toc_section_value in toc_section_values:\n",
    "        value_counts = df[df[toc_section_name] == toc_section_value][label_col_name].value_counts()\n",
    "        try:\n",
    "            total_counts = value_counts.at[False] + value_counts.at[True]\n",
    "            majority_value = True\n",
    "            if value_counts.at[False] > value_counts.at[True]:\n",
    "                majority_value = False\n",
    "            \n",
    "            per_majority = value_counts.at[majority_value]/total_counts\n",
    "            \n",
    "            if per_majority >= 0.7:\n",
    "                df.loc[df[toc_section_name] == toc_section_value, label_col_name] = majority_value\n",
    "            \n",
    "        except Exception as e:\n",
    "            #print(e)\n",
    "            pass\n",
    "        \n",
    "        if num%500 == 0:\n",
    "            print('Processed: ',toc_section_value, ' ',  num+1)\n",
    "        num = num + 1\n",
    "    \n",
    "    \n",
    "    df.to_csv(corrected_data_path, index=False)"
   ]
  },
  {
   "cell_type": "code",
   "execution_count": 13,
   "id": "0d7a1ab3",
   "metadata": {},
   "outputs": [
    {
     "name": "stdout",
     "output_type": "stream",
     "text": [
      "Number of sections to be processed:  (12958,)\n",
      "Processed:  Highlights   1\n",
      "Processed:  Corporate Governance Report   501\n",
      "Processed:  Contents to financial statements   1001\n",
      "Processed:  Phoenix Platinum   1501\n",
      "Processed:  Notes to the Financial Information   2001\n",
      "Processed:  Projects and pipeline   2501\n",
      "Processed:  Business relationships   3001\n",
      "Processed:  Report of the Independent Auditor to the Members of Sports Direct International plc   3501\n",
      "Processed:  Area of operation   4001\n",
      "Processed:  Ultra Electronics at a Glance   4501\n",
      "Processed:  Directors’ responsibility for   5001\n",
      "Processed:  Global market trends   5501\n",
      "Processed:  EnQuest’s business model   6001\n",
      "Processed:  BUSINESS MODEL   6501\n",
      "Processed:  – Annual report on remuneration   7001\n",
      "Processed:  SME Commercial Mortgages   7501\n",
      "Processed:  Particulars of subsidiaries and associates   8001\n",
      "Processed:  Ofﬁ ces and contacts   8501\n",
      "Processed:  Trading market   9001\n",
      "Processed:  Main board   9501\n",
      "Processed:  Risks and their management   10001\n",
      "Processed:  Essar Energy at a glance   10501\n",
      "Processed:  interim Chief executive’s Q&A   11001\n",
      "Processed:  Financial highlights for 2012   11501\n",
      "Processed:  Regional reviews   12001\n",
      "Processed:  Board members   12501\n"
     ]
    }
   ],
   "source": [
    "label_correction_using_majority_threshold(annotated_training_data_path, 'toc_section', 'is_section_in_summary', annotated_training_data_label_corrected_path)"
   ]
  },
  {
   "cell_type": "code",
   "execution_count": 14,
   "id": "b194fa3c",
   "metadata": {},
   "outputs": [],
   "source": [
    "annotated_training_data_label_corrected = pd.read_csv(annotated_training_data_label_corrected_path)"
   ]
  },
  {
   "cell_type": "code",
   "execution_count": 15,
   "id": "81b9f836",
   "metadata": {},
   "outputs": [
    {
     "data": {
      "text/plain": [
       "True    874\n",
       "Name: is_section_in_summary, dtype: int64"
      ]
     },
     "execution_count": 15,
     "metadata": {},
     "output_type": "execute_result"
    }
   ],
   "source": [
    "annotated_training_data_label_corrected[annotated_training_data_label_corrected['toc_section'] == 'Highlights']['is_section_in_summary'].value_counts()"
   ]
  },
  {
   "cell_type": "code",
   "execution_count": 16,
   "id": "1d576982",
   "metadata": {},
   "outputs": [
    {
     "data": {
      "text/plain": [
       "True    1132\n",
       "Name: is_section_in_summary, dtype: int64"
      ]
     },
     "execution_count": 16,
     "metadata": {},
     "output_type": "execute_result"
    }
   ],
   "source": [
    "annotated_training_data_label_corrected[annotated_training_data_label_corrected['toc_section'] == 'Chairman’s statement']['is_section_in_summary'].value_counts()"
   ]
  },
  {
   "cell_type": "code",
   "execution_count": 17,
   "id": "dd7af296",
   "metadata": {},
   "outputs": [
    {
     "data": {
      "text/plain": [
       "False    54206\n",
       "True     13687\n",
       "Name: is_section_in_summary, dtype: int64"
      ]
     },
     "execution_count": 17,
     "metadata": {},
     "output_type": "execute_result"
    }
   ],
   "source": [
    "annotated_training_data_label_corrected.is_section_in_summary.value_counts()"
   ]
  }
 ],
 "metadata": {
  "kernelspec": {
   "display_name": "Python 3 (ipykernel)",
   "language": "python",
   "name": "python3"
  },
  "language_info": {
   "codemirror_mode": {
    "name": "ipython",
    "version": 3
   },
   "file_extension": ".py",
   "mimetype": "text/x-python",
   "name": "python",
   "nbconvert_exporter": "python",
   "pygments_lexer": "ipython3",
   "version": "3.9.12"
  }
 },
 "nbformat": 4,
 "nbformat_minor": 5
}
