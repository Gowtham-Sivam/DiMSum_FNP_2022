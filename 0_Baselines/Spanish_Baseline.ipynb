{
 "cells": [
  {
   "cell_type": "code",
   "execution_count": 12,
   "id": "b0dace1c",
   "metadata": {},
   "outputs": [],
   "source": [
    "from sumy.summarizers.lex_rank import LexRankSummarizer\n",
    "from sumy.summarizers.text_rank import TextRankSummarizer\n",
    "# Load Packages\n",
    "from sumy.parsers.plaintext import PlaintextParser\n",
    "from sumy.nlp.tokenizers import Tokenizer\n",
    "\n",
    "import os"
   ]
  },
  {
   "cell_type": "code",
   "execution_count": 13,
   "id": "d6d2d2e1",
   "metadata": {},
   "outputs": [],
   "source": [
    "dir_ = '../../../Dataset/FNS2022/Spanish/validation/'\n",
    "annual_reports_dir = \"annual_reports\"\n",
    "gold_summary_dir = \"gold_summaries\"\n",
    "lex_rank_dir = 'lex_rank_summary_es'\n",
    "text_rank_dir = 'text_rank_summary_es'"
   ]
  },
  {
   "cell_type": "code",
   "execution_count": 14,
   "id": "a5b712ee",
   "metadata": {},
   "outputs": [
    {
     "ename": "FileExistsError",
     "evalue": "[Errno 17] File exists: 'text_rank_summary_es'",
     "output_type": "error",
     "traceback": [
      "\u001b[0;31m---------------------------------------------------------------------------\u001b[0m",
      "\u001b[0;31mFileExistsError\u001b[0m                           Traceback (most recent call last)",
      "\u001b[0;32m/var/folders/zm/pvdw66f97v9cmg7tw8wq8jr40000gn/T/ipykernel_40912/2856200682.py\u001b[0m in \u001b[0;36m<module>\u001b[0;34m\u001b[0m\n\u001b[0;32m----> 1\u001b[0;31m \u001b[0mos\u001b[0m\u001b[0;34m.\u001b[0m\u001b[0mmakedirs\u001b[0m\u001b[0;34m(\u001b[0m\u001b[0mtext_rank_dir\u001b[0m\u001b[0;34m)\u001b[0m\u001b[0;34m\u001b[0m\u001b[0;34m\u001b[0m\u001b[0m\n\u001b[0m",
      "\u001b[0;32m~/opt/anaconda3/lib/python3.9/os.py\u001b[0m in \u001b[0;36mmakedirs\u001b[0;34m(name, mode, exist_ok)\u001b[0m\n\u001b[1;32m    223\u001b[0m             \u001b[0;32mreturn\u001b[0m\u001b[0;34m\u001b[0m\u001b[0;34m\u001b[0m\u001b[0m\n\u001b[1;32m    224\u001b[0m     \u001b[0;32mtry\u001b[0m\u001b[0;34m:\u001b[0m\u001b[0;34m\u001b[0m\u001b[0;34m\u001b[0m\u001b[0m\n\u001b[0;32m--> 225\u001b[0;31m         \u001b[0mmkdir\u001b[0m\u001b[0;34m(\u001b[0m\u001b[0mname\u001b[0m\u001b[0;34m,\u001b[0m \u001b[0mmode\u001b[0m\u001b[0;34m)\u001b[0m\u001b[0;34m\u001b[0m\u001b[0;34m\u001b[0m\u001b[0m\n\u001b[0m\u001b[1;32m    226\u001b[0m     \u001b[0;32mexcept\u001b[0m \u001b[0mOSError\u001b[0m\u001b[0;34m:\u001b[0m\u001b[0;34m\u001b[0m\u001b[0;34m\u001b[0m\u001b[0m\n\u001b[1;32m    227\u001b[0m         \u001b[0;31m# Cannot rely on checking for EEXIST, since the operating system\u001b[0m\u001b[0;34m\u001b[0m\u001b[0;34m\u001b[0m\u001b[0m\n",
      "\u001b[0;31mFileExistsError\u001b[0m: [Errno 17] File exists: 'text_rank_summary_es'"
     ]
    }
   ],
   "source": [
    "os.makedirs(text_rank_dir)"
   ]
  },
  {
   "cell_type": "code",
   "execution_count": 9,
   "id": "0786afe8",
   "metadata": {},
   "outputs": [
    {
     "name": "stdout",
     "output_type": "stream",
     "text": [
      "Processing File Number:  0 0007.txt\n",
      "1979\n",
      "Processing File Number:  1 0013.txt\n",
      "1563\n",
      "Processing File Number:  2 0012.txt\n",
      "1972\n",
      "Processing File Number:  3 0006.txt\n"
     ]
    },
    {
     "ename": "KeyboardInterrupt",
     "evalue": "",
     "output_type": "error",
     "traceback": [
      "\u001b[0;31m---------------------------------------------------------------------------\u001b[0m",
      "\u001b[0;31mKeyboardInterrupt\u001b[0m                         Traceback (most recent call last)",
      "\u001b[0;32m/var/folders/zm/pvdw66f97v9cmg7tw8wq8jr40000gn/T/ipykernel_40912/3790473600.py\u001b[0m in \u001b[0;36m<module>\u001b[0;34m\u001b[0m\n\u001b[1;32m     18\u001b[0m         \u001b[0;31m# Summarize using sumy TextRank\u001b[0m\u001b[0;34m\u001b[0m\u001b[0;34m\u001b[0m\u001b[0m\n\u001b[1;32m     19\u001b[0m         \u001b[0msummarizer\u001b[0m \u001b[0;34m=\u001b[0m \u001b[0mTextRankSummarizer\u001b[0m\u001b[0;34m(\u001b[0m\u001b[0;34m)\u001b[0m\u001b[0;34m\u001b[0m\u001b[0;34m\u001b[0m\u001b[0m\n\u001b[0;32m---> 20\u001b[0;31m         \u001b[0msummary\u001b[0m \u001b[0;34m=\u001b[0m\u001b[0msummarizer\u001b[0m\u001b[0;34m(\u001b[0m\u001b[0mparser\u001b[0m\u001b[0;34m.\u001b[0m\u001b[0mdocument\u001b[0m\u001b[0;34m,\u001b[0m\u001b[0;36m20\u001b[0m\u001b[0;34m)\u001b[0m\u001b[0;34m\u001b[0m\u001b[0;34m\u001b[0m\u001b[0m\n\u001b[0m\u001b[1;32m     21\u001b[0m         \u001b[0mtext_summary\u001b[0m\u001b[0;34m=\u001b[0m\u001b[0;34m\"\"\u001b[0m\u001b[0;34m\u001b[0m\u001b[0;34m\u001b[0m\u001b[0m\n\u001b[1;32m     22\u001b[0m         \u001b[0;32mfor\u001b[0m \u001b[0msentence\u001b[0m \u001b[0;32min\u001b[0m \u001b[0msummary\u001b[0m\u001b[0;34m:\u001b[0m\u001b[0;34m\u001b[0m\u001b[0;34m\u001b[0m\u001b[0m\n",
      "\u001b[0;32m~/opt/anaconda3/lib/python3.9/site-packages/sumy/summarizers/text_rank.py\u001b[0m in \u001b[0;36m__call__\u001b[0;34m(self, document, sentences_count)\u001b[0m\n\u001b[1;32m     38\u001b[0m             \u001b[0;32mreturn\u001b[0m \u001b[0;34m(\u001b[0m\u001b[0;34m)\u001b[0m\u001b[0;34m\u001b[0m\u001b[0;34m\u001b[0m\u001b[0m\n\u001b[1;32m     39\u001b[0m \u001b[0;34m\u001b[0m\u001b[0m\n\u001b[0;32m---> 40\u001b[0;31m         \u001b[0mratings\u001b[0m \u001b[0;34m=\u001b[0m \u001b[0mself\u001b[0m\u001b[0;34m.\u001b[0m\u001b[0mrate_sentences\u001b[0m\u001b[0;34m(\u001b[0m\u001b[0mdocument\u001b[0m\u001b[0;34m)\u001b[0m\u001b[0;34m\u001b[0m\u001b[0;34m\u001b[0m\u001b[0m\n\u001b[0m\u001b[1;32m     41\u001b[0m         \u001b[0;32mreturn\u001b[0m \u001b[0mself\u001b[0m\u001b[0;34m.\u001b[0m\u001b[0m_get_best_sentences\u001b[0m\u001b[0;34m(\u001b[0m\u001b[0mdocument\u001b[0m\u001b[0;34m.\u001b[0m\u001b[0msentences\u001b[0m\u001b[0;34m,\u001b[0m \u001b[0msentences_count\u001b[0m\u001b[0;34m,\u001b[0m \u001b[0mratings\u001b[0m\u001b[0;34m)\u001b[0m\u001b[0;34m\u001b[0m\u001b[0;34m\u001b[0m\u001b[0m\n\u001b[1;32m     42\u001b[0m \u001b[0;34m\u001b[0m\u001b[0m\n",
      "\u001b[0;32m~/opt/anaconda3/lib/python3.9/site-packages/sumy/summarizers/text_rank.py\u001b[0m in \u001b[0;36mrate_sentences\u001b[0;34m(self, document)\u001b[0m\n\u001b[1;32m     47\u001b[0m \u001b[0;34m\u001b[0m\u001b[0m\n\u001b[1;32m     48\u001b[0m     \u001b[0;32mdef\u001b[0m \u001b[0mrate_sentences\u001b[0m\u001b[0;34m(\u001b[0m\u001b[0mself\u001b[0m\u001b[0;34m,\u001b[0m \u001b[0mdocument\u001b[0m\u001b[0;34m)\u001b[0m\u001b[0;34m:\u001b[0m\u001b[0;34m\u001b[0m\u001b[0;34m\u001b[0m\u001b[0m\n\u001b[0;32m---> 49\u001b[0;31m         \u001b[0mmatrix\u001b[0m \u001b[0;34m=\u001b[0m \u001b[0mself\u001b[0m\u001b[0;34m.\u001b[0m\u001b[0m_create_matrix\u001b[0m\u001b[0;34m(\u001b[0m\u001b[0mdocument\u001b[0m\u001b[0;34m)\u001b[0m\u001b[0;34m\u001b[0m\u001b[0;34m\u001b[0m\u001b[0m\n\u001b[0m\u001b[1;32m     50\u001b[0m         \u001b[0mranks\u001b[0m \u001b[0;34m=\u001b[0m \u001b[0mself\u001b[0m\u001b[0;34m.\u001b[0m\u001b[0mpower_method\u001b[0m\u001b[0;34m(\u001b[0m\u001b[0mmatrix\u001b[0m\u001b[0;34m,\u001b[0m \u001b[0mself\u001b[0m\u001b[0;34m.\u001b[0m\u001b[0mepsilon\u001b[0m\u001b[0;34m)\u001b[0m\u001b[0;34m\u001b[0m\u001b[0;34m\u001b[0m\u001b[0m\n\u001b[1;32m     51\u001b[0m         \u001b[0;32mreturn\u001b[0m \u001b[0;34m{\u001b[0m\u001b[0msent\u001b[0m\u001b[0;34m:\u001b[0m \u001b[0mrank\u001b[0m \u001b[0;32mfor\u001b[0m \u001b[0msent\u001b[0m\u001b[0;34m,\u001b[0m \u001b[0mrank\u001b[0m \u001b[0;32min\u001b[0m \u001b[0mzip\u001b[0m\u001b[0;34m(\u001b[0m\u001b[0mdocument\u001b[0m\u001b[0;34m.\u001b[0m\u001b[0msentences\u001b[0m\u001b[0;34m,\u001b[0m \u001b[0mranks\u001b[0m\u001b[0;34m)\u001b[0m\u001b[0;34m}\u001b[0m\u001b[0;34m\u001b[0m\u001b[0;34m\u001b[0m\u001b[0m\n",
      "\u001b[0;32m~/opt/anaconda3/lib/python3.9/site-packages/sumy/summarizers/text_rank.py\u001b[0m in \u001b[0;36m_create_matrix\u001b[0;34m(self, document)\u001b[0m\n\u001b[1;32m     67\u001b[0m         \u001b[0;32mfor\u001b[0m \u001b[0mi\u001b[0m\u001b[0;34m,\u001b[0m \u001b[0mwords_i\u001b[0m \u001b[0;32min\u001b[0m \u001b[0menumerate\u001b[0m\u001b[0;34m(\u001b[0m\u001b[0msentences_as_words\u001b[0m\u001b[0;34m)\u001b[0m\u001b[0;34m:\u001b[0m\u001b[0;34m\u001b[0m\u001b[0;34m\u001b[0m\u001b[0m\n\u001b[1;32m     68\u001b[0m             \u001b[0;32mfor\u001b[0m \u001b[0mj\u001b[0m \u001b[0;32min\u001b[0m \u001b[0mrange\u001b[0m\u001b[0;34m(\u001b[0m\u001b[0mi\u001b[0m\u001b[0;34m,\u001b[0m \u001b[0msentences_count\u001b[0m\u001b[0;34m)\u001b[0m\u001b[0;34m:\u001b[0m\u001b[0;34m\u001b[0m\u001b[0;34m\u001b[0m\u001b[0m\n\u001b[0;32m---> 69\u001b[0;31m                 \u001b[0mrating\u001b[0m \u001b[0;34m=\u001b[0m \u001b[0mself\u001b[0m\u001b[0;34m.\u001b[0m\u001b[0m_rate_sentences_edge\u001b[0m\u001b[0;34m(\u001b[0m\u001b[0mwords_i\u001b[0m\u001b[0;34m,\u001b[0m \u001b[0msentences_as_words\u001b[0m\u001b[0;34m[\u001b[0m\u001b[0mj\u001b[0m\u001b[0;34m]\u001b[0m\u001b[0;34m)\u001b[0m\u001b[0;34m\u001b[0m\u001b[0;34m\u001b[0m\u001b[0m\n\u001b[0m\u001b[1;32m     70\u001b[0m                 \u001b[0mweights\u001b[0m\u001b[0;34m[\u001b[0m\u001b[0mi\u001b[0m\u001b[0;34m,\u001b[0m \u001b[0mj\u001b[0m\u001b[0;34m]\u001b[0m \u001b[0;34m=\u001b[0m \u001b[0mrating\u001b[0m\u001b[0;34m\u001b[0m\u001b[0;34m\u001b[0m\u001b[0m\n\u001b[1;32m     71\u001b[0m                 \u001b[0mweights\u001b[0m\u001b[0;34m[\u001b[0m\u001b[0mj\u001b[0m\u001b[0;34m,\u001b[0m \u001b[0mi\u001b[0m\u001b[0;34m]\u001b[0m \u001b[0;34m=\u001b[0m \u001b[0mrating\u001b[0m\u001b[0;34m\u001b[0m\u001b[0;34m\u001b[0m\u001b[0m\n",
      "\u001b[0;32m~/opt/anaconda3/lib/python3.9/site-packages/sumy/summarizers/text_rank.py\u001b[0m in \u001b[0;36m_rate_sentences_edge\u001b[0;34m(words1, words2)\u001b[0m\n\u001b[1;32m     87\u001b[0m     \u001b[0;34m@\u001b[0m\u001b[0mstaticmethod\u001b[0m\u001b[0;34m\u001b[0m\u001b[0;34m\u001b[0m\u001b[0m\n\u001b[1;32m     88\u001b[0m     \u001b[0;32mdef\u001b[0m \u001b[0m_rate_sentences_edge\u001b[0m\u001b[0;34m(\u001b[0m\u001b[0mwords1\u001b[0m\u001b[0;34m,\u001b[0m \u001b[0mwords2\u001b[0m\u001b[0;34m)\u001b[0m\u001b[0;34m:\u001b[0m\u001b[0;34m\u001b[0m\u001b[0;34m\u001b[0m\u001b[0m\n\u001b[0;32m---> 89\u001b[0;31m         \u001b[0mrank\u001b[0m \u001b[0;34m=\u001b[0m \u001b[0msum\u001b[0m\u001b[0;34m(\u001b[0m\u001b[0mwords2\u001b[0m\u001b[0;34m.\u001b[0m\u001b[0mcount\u001b[0m\u001b[0;34m(\u001b[0m\u001b[0mw\u001b[0m\u001b[0;34m)\u001b[0m \u001b[0;32mfor\u001b[0m \u001b[0mw\u001b[0m \u001b[0;32min\u001b[0m \u001b[0mwords1\u001b[0m\u001b[0;34m)\u001b[0m\u001b[0;34m\u001b[0m\u001b[0;34m\u001b[0m\u001b[0m\n\u001b[0m\u001b[1;32m     90\u001b[0m         \u001b[0;32mif\u001b[0m \u001b[0mrank\u001b[0m \u001b[0;34m==\u001b[0m \u001b[0;36m0\u001b[0m\u001b[0;34m:\u001b[0m\u001b[0;34m\u001b[0m\u001b[0;34m\u001b[0m\u001b[0m\n\u001b[1;32m     91\u001b[0m             \u001b[0;32mreturn\u001b[0m \u001b[0;36m0.0\u001b[0m\u001b[0;34m\u001b[0m\u001b[0;34m\u001b[0m\u001b[0m\n",
      "\u001b[0;32m~/opt/anaconda3/lib/python3.9/site-packages/sumy/summarizers/text_rank.py\u001b[0m in \u001b[0;36m<genexpr>\u001b[0;34m(.0)\u001b[0m\n\u001b[1;32m     87\u001b[0m     \u001b[0;34m@\u001b[0m\u001b[0mstaticmethod\u001b[0m\u001b[0;34m\u001b[0m\u001b[0;34m\u001b[0m\u001b[0m\n\u001b[1;32m     88\u001b[0m     \u001b[0;32mdef\u001b[0m \u001b[0m_rate_sentences_edge\u001b[0m\u001b[0;34m(\u001b[0m\u001b[0mwords1\u001b[0m\u001b[0;34m,\u001b[0m \u001b[0mwords2\u001b[0m\u001b[0;34m)\u001b[0m\u001b[0;34m:\u001b[0m\u001b[0;34m\u001b[0m\u001b[0;34m\u001b[0m\u001b[0m\n\u001b[0;32m---> 89\u001b[0;31m         \u001b[0mrank\u001b[0m \u001b[0;34m=\u001b[0m \u001b[0msum\u001b[0m\u001b[0;34m(\u001b[0m\u001b[0mwords2\u001b[0m\u001b[0;34m.\u001b[0m\u001b[0mcount\u001b[0m\u001b[0;34m(\u001b[0m\u001b[0mw\u001b[0m\u001b[0;34m)\u001b[0m \u001b[0;32mfor\u001b[0m \u001b[0mw\u001b[0m \u001b[0;32min\u001b[0m \u001b[0mwords1\u001b[0m\u001b[0;34m)\u001b[0m\u001b[0;34m\u001b[0m\u001b[0;34m\u001b[0m\u001b[0m\n\u001b[0m\u001b[1;32m     90\u001b[0m         \u001b[0;32mif\u001b[0m \u001b[0mrank\u001b[0m \u001b[0;34m==\u001b[0m \u001b[0;36m0\u001b[0m\u001b[0;34m:\u001b[0m\u001b[0;34m\u001b[0m\u001b[0;34m\u001b[0m\u001b[0m\n\u001b[1;32m     91\u001b[0m             \u001b[0;32mreturn\u001b[0m \u001b[0;36m0.0\u001b[0m\u001b[0;34m\u001b[0m\u001b[0;34m\u001b[0m\u001b[0m\n",
      "\u001b[0;31mKeyboardInterrupt\u001b[0m: "
     ]
    }
   ],
   "source": [
    "num_file = 0\n",
    "\n",
    "for file in os.listdir(os.path.join(dir_, annual_reports_dir)):\n",
    "    try:\n",
    "        print(\"Processing File Number: \", num_file, file)\n",
    "        num_file = num_file +1 \n",
    "        file_id = file.split('.')[0]\n",
    "        \n",
    "        tmp_file = []\n",
    "        with open(os.path.join(dir_, annual_reports_dir, str(file_id) + '.txt'), \"r\", encoding='utf-8') as report_file:\n",
    "            for line in report_file:\n",
    "                line = line.replace(\"\\n\", \"\").replace(\"\\t\", \" \").replace(\"\\xa0\", \" \")\n",
    "                tmp_file.append(line)\n",
    "        report_txt = \" \".join(tmp_file)\n",
    "        \n",
    "        # For Strings\n",
    "        parser = PlaintextParser.from_string(report_txt,Tokenizer(\"spanish\"))\n",
    "        # Summarize using sumy TextRank\n",
    "        summarizer = TextRankSummarizer()\n",
    "        summary =summarizer(parser.document,20)\n",
    "        text_summary=\"\"\n",
    "        for sentence in summary:\n",
    "            text_summary+=str(sentence)\n",
    "        summary_split = text_summary.split(' ')\n",
    "        number_of_words = len(summary_split)\n",
    "        print(number_of_words)\n",
    "        if number_of_words > 1000:\n",
    "            text_summary = \" \".join(summary_split[:1000])\n",
    "        \n",
    "        with open(os.path.join(text_rank_dir, file_id+'.txt'), 'w', encoding='utf-8') as f:\n",
    "            f.write(str(text_summary))\n",
    "            \n",
    "        if \".DS_Store\" in file:\n",
    "            continue\n",
    "            \n",
    "    except Exception as e:\n",
    "        print(file, e)\n",
    "        "
   ]
  },
  {
   "cell_type": "code",
   "execution_count": 10,
   "id": "2b832b61",
   "metadata": {},
   "outputs": [],
   "source": [
    "os.makedirs(lex_rank_dir)"
   ]
  },
  {
   "cell_type": "code",
   "execution_count": 11,
   "id": "a57eb01b",
   "metadata": {},
   "outputs": [
    {
     "name": "stdout",
     "output_type": "stream",
     "text": [
      "Processing File Number:  0 0007.txt\n",
      "1056\n",
      "Processing File Number:  1 0013.txt\n",
      "907\n",
      "Processing File Number:  2 0012.txt\n",
      "1006\n",
      "Processing File Number:  3 0006.txt\n"
     ]
    },
    {
     "ename": "KeyboardInterrupt",
     "evalue": "",
     "output_type": "error",
     "traceback": [
      "\u001b[0;31m---------------------------------------------------------------------------\u001b[0m",
      "\u001b[0;31mKeyboardInterrupt\u001b[0m                         Traceback (most recent call last)",
      "\u001b[0;32m/var/folders/zm/pvdw66f97v9cmg7tw8wq8jr40000gn/T/ipykernel_40912/2187932496.py\u001b[0m in \u001b[0;36m<module>\u001b[0;34m\u001b[0m\n\u001b[1;32m     18\u001b[0m         \u001b[0;31m# Summarize using sumy LexRank\u001b[0m\u001b[0;34m\u001b[0m\u001b[0;34m\u001b[0m\u001b[0m\n\u001b[1;32m     19\u001b[0m         \u001b[0msummarizer\u001b[0m \u001b[0;34m=\u001b[0m \u001b[0mLexRankSummarizer\u001b[0m\u001b[0;34m(\u001b[0m\u001b[0;34m)\u001b[0m\u001b[0;34m\u001b[0m\u001b[0;34m\u001b[0m\u001b[0m\n\u001b[0;32m---> 20\u001b[0;31m         \u001b[0msummary\u001b[0m \u001b[0;34m=\u001b[0m\u001b[0msummarizer\u001b[0m\u001b[0;34m(\u001b[0m\u001b[0mparser\u001b[0m\u001b[0;34m.\u001b[0m\u001b[0mdocument\u001b[0m\u001b[0;34m,\u001b[0m\u001b[0;36m20\u001b[0m\u001b[0;34m)\u001b[0m\u001b[0;34m\u001b[0m\u001b[0;34m\u001b[0m\u001b[0m\n\u001b[0m\u001b[1;32m     21\u001b[0m         \u001b[0mtext_summary\u001b[0m\u001b[0;34m=\u001b[0m\u001b[0;34m\"\"\u001b[0m\u001b[0;34m\u001b[0m\u001b[0;34m\u001b[0m\u001b[0m\n\u001b[1;32m     22\u001b[0m         \u001b[0;32mfor\u001b[0m \u001b[0msentence\u001b[0m \u001b[0;32min\u001b[0m \u001b[0msummary\u001b[0m\u001b[0;34m:\u001b[0m\u001b[0;34m\u001b[0m\u001b[0;34m\u001b[0m\u001b[0m\n",
      "\u001b[0;32m~/opt/anaconda3/lib/python3.9/site-packages/sumy/summarizers/lex_rank.py\u001b[0m in \u001b[0;36m__call__\u001b[0;34m(self, document, sentences_count)\u001b[0m\n\u001b[1;32m     41\u001b[0m         \u001b[0midf_metrics\u001b[0m \u001b[0;34m=\u001b[0m \u001b[0mself\u001b[0m\u001b[0;34m.\u001b[0m\u001b[0m_compute_idf\u001b[0m\u001b[0;34m(\u001b[0m\u001b[0msentences_words\u001b[0m\u001b[0;34m)\u001b[0m\u001b[0;34m\u001b[0m\u001b[0;34m\u001b[0m\u001b[0m\n\u001b[1;32m     42\u001b[0m \u001b[0;34m\u001b[0m\u001b[0m\n\u001b[0;32m---> 43\u001b[0;31m         \u001b[0mmatrix\u001b[0m \u001b[0;34m=\u001b[0m \u001b[0mself\u001b[0m\u001b[0;34m.\u001b[0m\u001b[0m_create_matrix\u001b[0m\u001b[0;34m(\u001b[0m\u001b[0msentences_words\u001b[0m\u001b[0;34m,\u001b[0m \u001b[0mself\u001b[0m\u001b[0;34m.\u001b[0m\u001b[0mthreshold\u001b[0m\u001b[0;34m,\u001b[0m \u001b[0mtf_metrics\u001b[0m\u001b[0;34m,\u001b[0m \u001b[0midf_metrics\u001b[0m\u001b[0;34m)\u001b[0m\u001b[0;34m\u001b[0m\u001b[0;34m\u001b[0m\u001b[0m\n\u001b[0m\u001b[1;32m     44\u001b[0m         \u001b[0mscores\u001b[0m \u001b[0;34m=\u001b[0m \u001b[0mself\u001b[0m\u001b[0;34m.\u001b[0m\u001b[0mpower_method\u001b[0m\u001b[0;34m(\u001b[0m\u001b[0mmatrix\u001b[0m\u001b[0;34m,\u001b[0m \u001b[0mself\u001b[0m\u001b[0;34m.\u001b[0m\u001b[0mepsilon\u001b[0m\u001b[0;34m)\u001b[0m\u001b[0;34m\u001b[0m\u001b[0;34m\u001b[0m\u001b[0m\n\u001b[1;32m     45\u001b[0m         \u001b[0mratings\u001b[0m \u001b[0;34m=\u001b[0m \u001b[0mdict\u001b[0m\u001b[0;34m(\u001b[0m\u001b[0mzip\u001b[0m\u001b[0;34m(\u001b[0m\u001b[0mdocument\u001b[0m\u001b[0;34m.\u001b[0m\u001b[0msentences\u001b[0m\u001b[0;34m,\u001b[0m \u001b[0mscores\u001b[0m\u001b[0;34m)\u001b[0m\u001b[0;34m)\u001b[0m\u001b[0;34m\u001b[0m\u001b[0;34m\u001b[0m\u001b[0m\n",
      "\u001b[0;32m~/opt/anaconda3/lib/python3.9/site-packages/sumy/summarizers/lex_rank.py\u001b[0m in \u001b[0;36m_create_matrix\u001b[0;34m(self, sentences, threshold, tf_metrics, idf_metrics)\u001b[0m\n\u001b[1;32m    109\u001b[0m         \u001b[0;32mfor\u001b[0m \u001b[0mrow\u001b[0m \u001b[0;32min\u001b[0m \u001b[0mrange\u001b[0m\u001b[0;34m(\u001b[0m\u001b[0msentences_count\u001b[0m\u001b[0;34m)\u001b[0m\u001b[0;34m:\u001b[0m\u001b[0;34m\u001b[0m\u001b[0;34m\u001b[0m\u001b[0m\n\u001b[1;32m    110\u001b[0m             \u001b[0;32mfor\u001b[0m \u001b[0mcol\u001b[0m \u001b[0;32min\u001b[0m \u001b[0mrange\u001b[0m\u001b[0;34m(\u001b[0m\u001b[0msentences_count\u001b[0m\u001b[0;34m)\u001b[0m\u001b[0;34m:\u001b[0m\u001b[0;34m\u001b[0m\u001b[0;34m\u001b[0m\u001b[0m\n\u001b[0;32m--> 111\u001b[0;31m                 \u001b[0;32mif\u001b[0m \u001b[0mdegrees\u001b[0m\u001b[0;34m[\u001b[0m\u001b[0mrow\u001b[0m\u001b[0;34m]\u001b[0m \u001b[0;34m==\u001b[0m \u001b[0;36m0\u001b[0m\u001b[0;34m:\u001b[0m\u001b[0;34m\u001b[0m\u001b[0;34m\u001b[0m\u001b[0m\n\u001b[0m\u001b[1;32m    112\u001b[0m                     \u001b[0mdegrees\u001b[0m\u001b[0;34m[\u001b[0m\u001b[0mrow\u001b[0m\u001b[0;34m]\u001b[0m \u001b[0;34m=\u001b[0m \u001b[0;36m1\u001b[0m\u001b[0;34m\u001b[0m\u001b[0;34m\u001b[0m\u001b[0m\n\u001b[1;32m    113\u001b[0m \u001b[0;34m\u001b[0m\u001b[0m\n",
      "\u001b[0;31mKeyboardInterrupt\u001b[0m: "
     ]
    }
   ],
   "source": [
    "num_file = 0\n",
    "\n",
    "for file in os.listdir(os.path.join(dir_, annual_reports_dir)):\n",
    "    try:\n",
    "        print(\"Processing File Number: \", num_file, file)\n",
    "        num_file = num_file +1 \n",
    "        file_id = file.split('.')[0]\n",
    "        \n",
    "        tmp_file = []\n",
    "        with open(os.path.join(dir_, annual_reports_dir, str(file_id) + '.txt'), \"r\", encoding='utf-8') as report_file:\n",
    "            for line in report_file:\n",
    "                line = line.replace(\"\\n\", \"\").replace(\"\\t\", \" \").replace(\"\\xa0\", \" \")\n",
    "                tmp_file.append(line)\n",
    "        report_txt = \" \".join(tmp_file)\n",
    "        \n",
    "        # For Strings\n",
    "        parser = PlaintextParser.from_string(report_txt,Tokenizer(\"spanish\"))\n",
    "        # Summarize using sumy LexRank\n",
    "        summarizer = LexRankSummarizer()\n",
    "        summary =summarizer(parser.document,20)\n",
    "        text_summary=\"\"\n",
    "        for sentence in summary:\n",
    "            text_summary+=str(sentence)\n",
    "        summary_split = text_summary.split(' ')\n",
    "        number_of_words = len(summary_split)\n",
    "        print(number_of_words)\n",
    "        if number_of_words > 1000:\n",
    "            text_summary = \" \".join(summary_split[:1000])\n",
    "        \n",
    "        with open(os.path.join(lex_rank_dir, file_id+'.txt'), 'w', encoding='utf-8') as f:\n",
    "            f.write(str(text_summary))\n",
    "            \n",
    "        if \".DS_Store\" in file:\n",
    "            continue\n",
    "            \n",
    "    except Exception as e:\n",
    "        print(file, e)"
   ]
  },
  {
   "cell_type": "code",
   "execution_count": 15,
   "id": "9135200e",
   "metadata": {},
   "outputs": [],
   "source": [
    "from rouge_evaluation import get_rouge_scores\n",
    "gold_summary_dir_ = os.path.join(dir_, gold_summary_dir)"
   ]
  },
  {
   "cell_type": "code",
   "execution_count": 27,
   "id": "c54034ee",
   "metadata": {},
   "outputs": [],
   "source": [
    "system_summary_dir = text_rank_dir"
   ]
  },
  {
   "cell_type": "code",
   "execution_count": 28,
   "id": "8a3faa5a",
   "metadata": {},
   "outputs": [
    {
     "name": "stdout",
     "output_type": "stream",
     "text": [
      "Processing File Number:  0\n",
      "0007.txt summary len:  1000\n",
      "0013.txt summary len:  1000\n",
      "0012.txt summary len:  1000\n"
     ]
    }
   ],
   "source": [
    "from rouge_score import rouge_scorer\n",
    "scorer = rouge_scorer.RougeScorer(['rouge1', 'rouge2'])\n",
    "\n",
    "rouge_scores = {}\n",
    "rouge_scores['rouge-1'] = {}\n",
    "rouge_scores['rouge-2'] = {}\n",
    "\n",
    "rouge_scores['rouge-1']['p'] = 0\n",
    "rouge_scores['rouge-1']['r'] = 0\n",
    "rouge_scores['rouge-1']['f'] = 0\n",
    "rouge_scores['rouge-2']['p'] = 0\n",
    "rouge_scores['rouge-2']['r'] = 0\n",
    "rouge_scores['rouge-2']['f'] = 0\n",
    "num_file = 0\n",
    "\n",
    "for file in os.listdir(system_summary_dir):\n",
    "    try:\n",
    "        if num_file%10 == 0:\n",
    "            print(\"Processing File Number: \", num_file)\n",
    "        file_id = file.split('.')[0]\n",
    "        if \".DS_Store\" in file:\n",
    "            continue\n",
    "            \n",
    "        with open(os.path.join(system_summary_dir,file), \"r\",  encoding='utf-8') as f:\n",
    "            system_summary_txt = f.read()\n",
    "            print(file, 'summary len: ', len(system_summary_txt.split(' ')))\n",
    "                \n",
    "        sum_rouge_scores = {}\n",
    "        sum_rouge_scores['rouge-1'] = {}\n",
    "        sum_rouge_scores['rouge-2'] = {}\n",
    "        sum_rouge_scores['rouge-L'] = {}\n",
    "\n",
    "        sum_rouge_scores['rouge-1']['p'] = 0\n",
    "        sum_rouge_scores['rouge-1']['r'] = 0\n",
    "        sum_rouge_scores['rouge-1']['f'] = 0\n",
    "        sum_rouge_scores['rouge-2']['p'] = 0\n",
    "        sum_rouge_scores['rouge-2']['r'] = 0\n",
    "        sum_rouge_scores['rouge-2']['f'] = 0\n",
    "        \n",
    "        num_sum_file = 0\n",
    "        \n",
    "        for sum_file in os.listdir(gold_summary_dir_):\n",
    "            if \".DS_Store\" in file:\n",
    "                continue\n",
    "            if os.path.isfile(os.path.join(gold_summary_dir_,sum_file)) and file_id==sum_file.split(\"_\")[0]:\n",
    "                #print(file_id)\n",
    "                \n",
    "                with open(os.path.join(gold_summary_dir_,sum_file), \"r\",  encoding='utf-8') as f:\n",
    "                    gold_sum_txt = f.read()\n",
    "                    sum_scores = scorer.score(gold_sum_txt, system_summary_txt)\n",
    "                    sum_rouge_scores['rouge-1']['p'] = sum_rouge_scores['rouge-1']['p'] + sum_scores['rouge1'][0]\n",
    "                    sum_rouge_scores['rouge-1']['r'] = sum_rouge_scores['rouge-1']['r'] + sum_scores['rouge1'][1]\n",
    "                    sum_rouge_scores['rouge-1']['f'] = sum_rouge_scores['rouge-1']['f'] + sum_scores['rouge1'][2]\n",
    "                    sum_rouge_scores['rouge-2']['p'] = sum_rouge_scores['rouge-2']['p'] + sum_scores['rouge2'][0]\n",
    "                    sum_rouge_scores['rouge-2']['r'] = sum_rouge_scores['rouge-2']['r'] + sum_scores['rouge2'][1]\n",
    "                    sum_rouge_scores['rouge-2']['f'] = sum_rouge_scores['rouge-2']['f'] + sum_scores['rouge2'][2]\n",
    "                    num_sum_file = num_sum_file + 1\n",
    "            \n",
    "        sum_rouge_scores['rouge-1']['p'] = sum_rouge_scores['rouge-1']['p'] / (num_sum_file)\n",
    "        sum_rouge_scores['rouge-1']['r'] = sum_rouge_scores['rouge-1']['r'] / (num_sum_file)\n",
    "        sum_rouge_scores['rouge-1']['f'] = sum_rouge_scores['rouge-1']['f'] / (num_sum_file)\n",
    "        sum_rouge_scores['rouge-2']['p'] = sum_rouge_scores['rouge-2']['p'] / (num_sum_file)\n",
    "        sum_rouge_scores['rouge-2']['r'] = sum_rouge_scores['rouge-2']['r'] / (num_sum_file)\n",
    "        sum_rouge_scores['rouge-2']['f'] = sum_rouge_scores['rouge-2']['f'] / (num_sum_file)\n",
    "        \n",
    "        \n",
    "        rouge_scores['rouge-1']['p'] = rouge_scores['rouge-1']['p'] + sum_rouge_scores['rouge-1']['p']\n",
    "        rouge_scores['rouge-1']['r'] = rouge_scores['rouge-1']['r'] + sum_rouge_scores['rouge-1']['r']\n",
    "        rouge_scores['rouge-1']['f'] = rouge_scores['rouge-1']['f'] + sum_rouge_scores['rouge-1']['f']\n",
    "        rouge_scores['rouge-2']['p'] = rouge_scores['rouge-2']['p'] + sum_rouge_scores['rouge-2']['p']\n",
    "        rouge_scores['rouge-2']['r'] = rouge_scores['rouge-2']['r'] + sum_rouge_scores['rouge-2']['r']\n",
    "        rouge_scores['rouge-2']['f'] = rouge_scores['rouge-2']['f'] + sum_rouge_scores['rouge-2']['f']\n",
    "        \n",
    "        num_file = num_file + 1\n",
    "        \n",
    "        \n",
    "    except Exception as e:\n",
    "        print(e)\n",
    "        pass"
   ]
  },
  {
   "cell_type": "code",
   "execution_count": 29,
   "id": "4bf9738e",
   "metadata": {},
   "outputs": [
    {
     "data": {
      "text/plain": [
       "3"
      ]
     },
     "execution_count": 29,
     "metadata": {},
     "output_type": "execute_result"
    }
   ],
   "source": [
    "num_file"
   ]
  },
  {
   "cell_type": "code",
   "execution_count": 30,
   "id": "64b4b50b",
   "metadata": {},
   "outputs": [
    {
     "data": {
      "text/plain": [
       "{'rouge-1': {'p': 0.24506933862890615,\n",
       "  'r': 0.5427214854650597,\n",
       "  'f': 0.31913097841036675},\n",
       " 'rouge-2': {'p': 0.06567242634562602,\n",
       "  'r': 0.14262845695239368,\n",
       "  'f': 0.08462920416614424}}"
      ]
     },
     "execution_count": 30,
     "metadata": {},
     "output_type": "execute_result"
    }
   ],
   "source": [
    "rouge_scores['rouge-1']['p'] = rouge_scores['rouge-1']['p'] / (num_file)\n",
    "rouge_scores['rouge-1']['r'] = rouge_scores['rouge-1']['r'] / (num_file)\n",
    "rouge_scores['rouge-1']['f'] = rouge_scores['rouge-1']['f'] / (num_file)\n",
    "rouge_scores['rouge-2']['p'] = rouge_scores['rouge-2']['p'] / (num_file)\n",
    "rouge_scores['rouge-2']['r'] = rouge_scores['rouge-2']['r'] / (num_file)\n",
    "rouge_scores['rouge-2']['f'] = rouge_scores['rouge-2']['f'] / (num_file)\n",
    "rouge_scores"
   ]
  },
  {
   "cell_type": "markdown",
   "id": "025bc3d4",
   "metadata": {},
   "source": [
    "lexrank\n",
    "\n",
    "{'rouge-1': {'p': 0.26313257359844694,\n",
    "  'r': 0.5441491830866335,\n",
    "  'f': 0.33378882462752263},\n",
    " 'rouge-2': {'p': 0.07381182375468719,\n",
    "  'r': 0.14377406029715936,\n",
    "  'f': 0.0916599937672229}}\n",
    "  \n",
    " \n",
    "textrank\n",
    "\n",
    "{'rouge-1': {'p': 0.24506933862890615,\n",
    "  'r': 0.5427214854650597,\n",
    "  'f': 0.31913097841036675},\n",
    " 'rouge-2': {'p': 0.06567242634562602,\n",
    "  'r': 0.14262845695239368,\n",
    "  'f': 0.08462920416614424}}\n",
    "\n"
   ]
  }
 ],
 "metadata": {
  "kernelspec": {
   "display_name": "Python 3 (ipykernel)",
   "language": "python",
   "name": "python3"
  },
  "language_info": {
   "codemirror_mode": {
    "name": "ipython",
    "version": 3
   },
   "file_extension": ".py",
   "mimetype": "text/x-python",
   "name": "python",
   "nbconvert_exporter": "python",
   "pygments_lexer": "ipython3",
   "version": "3.9.7"
  }
 },
 "nbformat": 4,
 "nbformat_minor": 5
}
